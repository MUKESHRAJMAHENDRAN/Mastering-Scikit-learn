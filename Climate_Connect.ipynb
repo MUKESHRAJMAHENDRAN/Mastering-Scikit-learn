{
 "cells": [
  {
   "cell_type": "markdown",
   "id": "RRUyP7cakMec",
   "metadata": {
    "id": "RRUyP7cakMec"
   },
   "source": [
    "# Load Forecasting "
   ]
  },
  {
   "cell_type": "code",
   "execution_count": 1,
   "id": "ce510d9c",
   "metadata": {
    "id": "ce510d9c"
   },
   "outputs": [],
   "source": [
    "#Importing the necessary library for data exploration\n",
    "import pandas as pd\n",
    "import numpy as np\n",
    "import matplotlib.pyplot as plt\n",
    "import seaborn as sns\n",
    "%matplotlib inline"
   ]
  },
  {
   "cell_type": "code",
   "execution_count": 2,
   "id": "76132844",
   "metadata": {
    "colab": {
     "base_uri": "https://localhost:8080/",
     "height": 206
    },
    "id": "76132844",
    "outputId": "208410fb-1c99-48fd-8c31-66e0ce5a7264"
   },
   "outputs": [
    {
     "data": {
      "text/html": [
       "<div>\n",
       "<style scoped>\n",
       "    .dataframe tbody tr th:only-of-type {\n",
       "        vertical-align: middle;\n",
       "    }\n",
       "\n",
       "    .dataframe tbody tr th {\n",
       "        vertical-align: top;\n",
       "    }\n",
       "\n",
       "    .dataframe thead th {\n",
       "        text-align: right;\n",
       "    }\n",
       "</style>\n",
       "<table border=\"1\" class=\"dataframe\">\n",
       "  <thead>\n",
       "    <tr style=\"text-align: right;\">\n",
       "      <th></th>\n",
       "      <th>Unnamed: 0</th>\n",
       "      <th>datetime</th>\n",
       "      <th>load</th>\n",
       "      <th>apparent_temperature</th>\n",
       "      <th>temperature</th>\n",
       "      <th>humidity</th>\n",
       "      <th>dew_point</th>\n",
       "      <th>wind_speed</th>\n",
       "      <th>cloud_cover</th>\n",
       "      <th>date</th>\n",
       "    </tr>\n",
       "  </thead>\n",
       "  <tbody>\n",
       "    <tr>\n",
       "      <th>0</th>\n",
       "      <td>0</td>\n",
       "      <td>2018-01-01 00:00:00</td>\n",
       "      <td>803.22270</td>\n",
       "      <td>10.45800</td>\n",
       "      <td>10.45800</td>\n",
       "      <td>0.955500</td>\n",
       "      <td>8.946000</td>\n",
       "      <td>0.0</td>\n",
       "      <td>0.0</td>\n",
       "      <td>2018-01-01</td>\n",
       "    </tr>\n",
       "    <tr>\n",
       "      <th>1</th>\n",
       "      <td>1</td>\n",
       "      <td>2018-01-01 00:15:00</td>\n",
       "      <td>774.89523</td>\n",
       "      <td>10.32675</td>\n",
       "      <td>10.32675</td>\n",
       "      <td>0.961625</td>\n",
       "      <td>8.911875</td>\n",
       "      <td>0.0</td>\n",
       "      <td>0.0</td>\n",
       "      <td>2018-01-01</td>\n",
       "    </tr>\n",
       "    <tr>\n",
       "      <th>2</th>\n",
       "      <td>2</td>\n",
       "      <td>2018-01-01 00:30:00</td>\n",
       "      <td>731.46927</td>\n",
       "      <td>10.19550</td>\n",
       "      <td>10.19550</td>\n",
       "      <td>0.967750</td>\n",
       "      <td>8.877750</td>\n",
       "      <td>0.0</td>\n",
       "      <td>0.0</td>\n",
       "      <td>2018-01-01</td>\n",
       "    </tr>\n",
       "    <tr>\n",
       "      <th>3</th>\n",
       "      <td>3</td>\n",
       "      <td>2018-01-01 00:45:00</td>\n",
       "      <td>713.93870</td>\n",
       "      <td>10.06425</td>\n",
       "      <td>10.06425</td>\n",
       "      <td>0.973875</td>\n",
       "      <td>8.843625</td>\n",
       "      <td>0.0</td>\n",
       "      <td>0.0</td>\n",
       "      <td>2018-01-01</td>\n",
       "    </tr>\n",
       "    <tr>\n",
       "      <th>4</th>\n",
       "      <td>4</td>\n",
       "      <td>2018-01-01 01:00:00</td>\n",
       "      <td>699.23007</td>\n",
       "      <td>9.93300</td>\n",
       "      <td>9.93300</td>\n",
       "      <td>0.980000</td>\n",
       "      <td>8.809500</td>\n",
       "      <td>0.0</td>\n",
       "      <td>0.0</td>\n",
       "      <td>2018-01-01</td>\n",
       "    </tr>\n",
       "  </tbody>\n",
       "</table>\n",
       "</div>"
      ],
      "text/plain": [
       "   Unnamed: 0             datetime       load  apparent_temperature  \\\n",
       "0           0  2018-01-01 00:00:00  803.22270              10.45800   \n",
       "1           1  2018-01-01 00:15:00  774.89523              10.32675   \n",
       "2           2  2018-01-01 00:30:00  731.46927              10.19550   \n",
       "3           3  2018-01-01 00:45:00  713.93870              10.06425   \n",
       "4           4  2018-01-01 01:00:00  699.23007               9.93300   \n",
       "\n",
       "   temperature  humidity  dew_point  wind_speed  cloud_cover        date  \n",
       "0     10.45800  0.955500   8.946000         0.0          0.0  2018-01-01  \n",
       "1     10.32675  0.961625   8.911875         0.0          0.0  2018-01-01  \n",
       "2     10.19550  0.967750   8.877750         0.0          0.0  2018-01-01  \n",
       "3     10.06425  0.973875   8.843625         0.0          0.0  2018-01-01  \n",
       "4      9.93300  0.980000   8.809500         0.0          0.0  2018-01-01  "
      ]
     },
     "execution_count": 2,
     "metadata": {},
     "output_type": "execute_result"
    }
   ],
   "source": [
    "#Loading the data\n",
    "df = pd.read_csv(\"AssignmentData.csv\")\n",
    "df.head()"
   ]
  },
  {
   "cell_type": "markdown",
   "id": "ccf00784",
   "metadata": {},
   "source": [
    "# Exploratory data analysis"
   ]
  },
  {
   "cell_type": "code",
   "execution_count": 3,
   "id": "2b384cb1",
   "metadata": {
    "id": "2b384cb1"
   },
   "outputs": [],
   "source": [
    "#Removing the unnecessary columns\n",
    "df.drop(\"Unnamed: 0\", axis = 1, inplace =True)"
   ]
  },
  {
   "cell_type": "code",
   "execution_count": 4,
   "id": "b2283ea6",
   "metadata": {
    "colab": {
     "base_uri": "https://localhost:8080/",
     "height": 206
    },
    "id": "b2283ea6",
    "outputId": "4775d1d8-d31e-4486-a5a0-928aa57728d9"
   },
   "outputs": [
    {
     "data": {
      "text/html": [
       "<div>\n",
       "<style scoped>\n",
       "    .dataframe tbody tr th:only-of-type {\n",
       "        vertical-align: middle;\n",
       "    }\n",
       "\n",
       "    .dataframe tbody tr th {\n",
       "        vertical-align: top;\n",
       "    }\n",
       "\n",
       "    .dataframe thead th {\n",
       "        text-align: right;\n",
       "    }\n",
       "</style>\n",
       "<table border=\"1\" class=\"dataframe\">\n",
       "  <thead>\n",
       "    <tr style=\"text-align: right;\">\n",
       "      <th></th>\n",
       "      <th>datetime</th>\n",
       "      <th>load</th>\n",
       "      <th>apparent_temperature</th>\n",
       "      <th>temperature</th>\n",
       "      <th>humidity</th>\n",
       "      <th>dew_point</th>\n",
       "      <th>wind_speed</th>\n",
       "      <th>cloud_cover</th>\n",
       "      <th>date</th>\n",
       "    </tr>\n",
       "  </thead>\n",
       "  <tbody>\n",
       "    <tr>\n",
       "      <th>0</th>\n",
       "      <td>2018-01-01 00:00:00</td>\n",
       "      <td>803.22270</td>\n",
       "      <td>10.45800</td>\n",
       "      <td>10.45800</td>\n",
       "      <td>0.955500</td>\n",
       "      <td>8.946000</td>\n",
       "      <td>0.0</td>\n",
       "      <td>0.0</td>\n",
       "      <td>2018-01-01</td>\n",
       "    </tr>\n",
       "    <tr>\n",
       "      <th>1</th>\n",
       "      <td>2018-01-01 00:15:00</td>\n",
       "      <td>774.89523</td>\n",
       "      <td>10.32675</td>\n",
       "      <td>10.32675</td>\n",
       "      <td>0.961625</td>\n",
       "      <td>8.911875</td>\n",
       "      <td>0.0</td>\n",
       "      <td>0.0</td>\n",
       "      <td>2018-01-01</td>\n",
       "    </tr>\n",
       "    <tr>\n",
       "      <th>2</th>\n",
       "      <td>2018-01-01 00:30:00</td>\n",
       "      <td>731.46927</td>\n",
       "      <td>10.19550</td>\n",
       "      <td>10.19550</td>\n",
       "      <td>0.967750</td>\n",
       "      <td>8.877750</td>\n",
       "      <td>0.0</td>\n",
       "      <td>0.0</td>\n",
       "      <td>2018-01-01</td>\n",
       "    </tr>\n",
       "    <tr>\n",
       "      <th>3</th>\n",
       "      <td>2018-01-01 00:45:00</td>\n",
       "      <td>713.93870</td>\n",
       "      <td>10.06425</td>\n",
       "      <td>10.06425</td>\n",
       "      <td>0.973875</td>\n",
       "      <td>8.843625</td>\n",
       "      <td>0.0</td>\n",
       "      <td>0.0</td>\n",
       "      <td>2018-01-01</td>\n",
       "    </tr>\n",
       "    <tr>\n",
       "      <th>4</th>\n",
       "      <td>2018-01-01 01:00:00</td>\n",
       "      <td>699.23007</td>\n",
       "      <td>9.93300</td>\n",
       "      <td>9.93300</td>\n",
       "      <td>0.980000</td>\n",
       "      <td>8.809500</td>\n",
       "      <td>0.0</td>\n",
       "      <td>0.0</td>\n",
       "      <td>2018-01-01</td>\n",
       "    </tr>\n",
       "  </tbody>\n",
       "</table>\n",
       "</div>"
      ],
      "text/plain": [
       "              datetime       load  apparent_temperature  temperature  \\\n",
       "0  2018-01-01 00:00:00  803.22270              10.45800     10.45800   \n",
       "1  2018-01-01 00:15:00  774.89523              10.32675     10.32675   \n",
       "2  2018-01-01 00:30:00  731.46927              10.19550     10.19550   \n",
       "3  2018-01-01 00:45:00  713.93870              10.06425     10.06425   \n",
       "4  2018-01-01 01:00:00  699.23007               9.93300      9.93300   \n",
       "\n",
       "   humidity  dew_point  wind_speed  cloud_cover        date  \n",
       "0  0.955500   8.946000         0.0          0.0  2018-01-01  \n",
       "1  0.961625   8.911875         0.0          0.0  2018-01-01  \n",
       "2  0.967750   8.877750         0.0          0.0  2018-01-01  \n",
       "3  0.973875   8.843625         0.0          0.0  2018-01-01  \n",
       "4  0.980000   8.809500         0.0          0.0  2018-01-01  "
      ]
     },
     "execution_count": 4,
     "metadata": {},
     "output_type": "execute_result"
    }
   ],
   "source": [
    "df.head()"
   ]
  },
  {
   "cell_type": "code",
   "execution_count": 5,
   "id": "a8cc907e",
   "metadata": {
    "colab": {
     "base_uri": "https://localhost:8080/"
    },
    "id": "a8cc907e",
    "outputId": "36f04be5-51e9-4b42-a647-2b4250b79fae"
   },
   "outputs": [
    {
     "data": {
      "text/plain": [
       "datetime                 object\n",
       "load                    float64\n",
       "apparent_temperature    float64\n",
       "temperature             float64\n",
       "humidity                float64\n",
       "dew_point               float64\n",
       "wind_speed              float64\n",
       "cloud_cover             float64\n",
       "date                     object\n",
       "dtype: object"
      ]
     },
     "execution_count": 5,
     "metadata": {},
     "output_type": "execute_result"
    }
   ],
   "source": [
    "df.dtypes"
   ]
  },
  {
   "cell_type": "code",
   "execution_count": 6,
   "id": "d12e77ca",
   "metadata": {
    "colab": {
     "base_uri": "https://localhost:8080/"
    },
    "id": "d12e77ca",
    "outputId": "c521d5fc-5bc9-43b8-8e34-906ed4325c64"
   },
   "outputs": [
    {
     "data": {
      "text/plain": [
       "datetime                   0\n",
       "load                    1632\n",
       "apparent_temperature       0\n",
       "temperature                0\n",
       "humidity                   0\n",
       "dew_point                  0\n",
       "wind_speed                 0\n",
       "cloud_cover                0\n",
       "date                       0\n",
       "dtype: int64"
      ]
     },
     "execution_count": 6,
     "metadata": {},
     "output_type": "execute_result"
    }
   ],
   "source": [
    "df.isna().sum()"
   ]
  },
  {
   "cell_type": "markdown",
   "id": "995049cc",
   "metadata": {},
   "source": [
    "## Data Extraction"
   ]
  },
  {
   "cell_type": "markdown",
   "id": "616989b4",
   "metadata": {},
   "source": [
    "It seems only the load column contains the NAN values, Convertion of date time and extract the necessay features."
   ]
  },
  {
   "cell_type": "code",
   "execution_count": 7,
   "id": "701a1548",
   "metadata": {
    "id": "701a1548"
   },
   "outputs": [],
   "source": [
    "df[\"datetime\"] = pd.to_datetime(df[\"datetime\"])"
   ]
  },
  {
   "cell_type": "code",
   "execution_count": 8,
   "id": "d8ddf1e6",
   "metadata": {
    "colab": {
     "base_uri": "https://localhost:8080/"
    },
    "id": "d8ddf1e6",
    "outputId": "e75c02ea-d6a4-4867-e566-a24ee04e1f4f"
   },
   "outputs": [
    {
     "data": {
      "text/plain": [
       "0        2018-01-01 00:00:00\n",
       "1        2018-01-01 00:15:00\n",
       "2        2018-01-01 00:30:00\n",
       "3        2018-01-01 00:45:00\n",
       "4        2018-01-01 01:00:00\n",
       "                 ...        \n",
       "103579   2020-12-14 22:45:00\n",
       "103580   2020-12-14 23:00:00\n",
       "103581   2020-12-14 23:15:00\n",
       "103582   2020-12-14 23:30:00\n",
       "103583   2020-12-14 23:45:00\n",
       "Name: datetime, Length: 103584, dtype: datetime64[ns]"
      ]
     },
     "execution_count": 8,
     "metadata": {},
     "output_type": "execute_result"
    }
   ],
   "source": [
    "df[\"datetime\"]"
   ]
  },
  {
   "cell_type": "code",
   "execution_count": 9,
   "id": "fa6c0804",
   "metadata": {
    "id": "fa6c0804"
   },
   "outputs": [],
   "source": [
    "df[\"time\"] = df[\"datetime\"].dt.time\n",
    "df[\"month\"] = df[\"datetime\"].dt.month\n",
    "df[\"year\"] =  df[\"datetime\"].dt.year\n",
    "df[\"day\"] = df[\"datetime\"].dt.day_name()\n",
    "df[\"month_name\"]=df[\"datetime\"].dt.month_name()"
   ]
  },
  {
   "cell_type": "code",
   "execution_count": 10,
   "id": "08ba0568",
   "metadata": {
    "colab": {
     "base_uri": "https://localhost:8080/"
    },
    "id": "08ba0568",
    "outputId": "6b058a25-e251-4446-ae35-37085ac6a368"
   },
   "outputs": [
    {
     "data": {
      "text/plain": [
       "datetime                2020-11-07 16:00:00\n",
       "load                              1121.2717\n",
       "apparent_temperature                31.6995\n",
       "temperature                         31.6995\n",
       "humidity                              0.126\n",
       "dew_point                            -2.772\n",
       "wind_speed                           2.7195\n",
       "cloud_cover                             0.0\n",
       "date                             2020-11-07\n",
       "time                               16:00:00\n",
       "month                                    11\n",
       "year                                   2020\n",
       "day                                Saturday\n",
       "month_name                         November\n",
       "Name: 100000, dtype: object"
      ]
     },
     "execution_count": 10,
     "metadata": {},
     "output_type": "execute_result"
    }
   ],
   "source": [
    "df.iloc[100000]"
   ]
  },
  {
   "cell_type": "code",
   "execution_count": 11,
   "id": "a1a6a170",
   "metadata": {
    "colab": {
     "base_uri": "https://localhost:8080/",
     "height": 444
    },
    "id": "a1a6a170",
    "outputId": "70a8874e-43a9-409c-8f03-4934dc1976aa"
   },
   "outputs": [
    {
     "data": {
      "text/html": [
       "<div>\n",
       "<style scoped>\n",
       "    .dataframe tbody tr th:only-of-type {\n",
       "        vertical-align: middle;\n",
       "    }\n",
       "\n",
       "    .dataframe tbody tr th {\n",
       "        vertical-align: top;\n",
       "    }\n",
       "\n",
       "    .dataframe thead th {\n",
       "        text-align: right;\n",
       "    }\n",
       "</style>\n",
       "<table border=\"1\" class=\"dataframe\">\n",
       "  <thead>\n",
       "    <tr style=\"text-align: right;\">\n",
       "      <th></th>\n",
       "      <th>datetime</th>\n",
       "      <th>load</th>\n",
       "      <th>apparent_temperature</th>\n",
       "      <th>temperature</th>\n",
       "      <th>humidity</th>\n",
       "      <th>dew_point</th>\n",
       "      <th>wind_speed</th>\n",
       "      <th>cloud_cover</th>\n",
       "      <th>date</th>\n",
       "      <th>time</th>\n",
       "      <th>month</th>\n",
       "      <th>year</th>\n",
       "      <th>day</th>\n",
       "      <th>month_name</th>\n",
       "    </tr>\n",
       "  </thead>\n",
       "  <tbody>\n",
       "    <tr>\n",
       "      <th>0</th>\n",
       "      <td>2018-01-01 00:00:00</td>\n",
       "      <td>803.22270</td>\n",
       "      <td>10.45800</td>\n",
       "      <td>10.45800</td>\n",
       "      <td>0.955500</td>\n",
       "      <td>8.946000</td>\n",
       "      <td>0.0</td>\n",
       "      <td>0.0</td>\n",
       "      <td>2018-01-01</td>\n",
       "      <td>00:00:00</td>\n",
       "      <td>1</td>\n",
       "      <td>2018</td>\n",
       "      <td>Monday</td>\n",
       "      <td>January</td>\n",
       "    </tr>\n",
       "    <tr>\n",
       "      <th>1</th>\n",
       "      <td>2018-01-01 00:15:00</td>\n",
       "      <td>774.89523</td>\n",
       "      <td>10.32675</td>\n",
       "      <td>10.32675</td>\n",
       "      <td>0.961625</td>\n",
       "      <td>8.911875</td>\n",
       "      <td>0.0</td>\n",
       "      <td>0.0</td>\n",
       "      <td>2018-01-01</td>\n",
       "      <td>00:15:00</td>\n",
       "      <td>1</td>\n",
       "      <td>2018</td>\n",
       "      <td>Monday</td>\n",
       "      <td>January</td>\n",
       "    </tr>\n",
       "    <tr>\n",
       "      <th>2</th>\n",
       "      <td>2018-01-01 00:30:00</td>\n",
       "      <td>731.46927</td>\n",
       "      <td>10.19550</td>\n",
       "      <td>10.19550</td>\n",
       "      <td>0.967750</td>\n",
       "      <td>8.877750</td>\n",
       "      <td>0.0</td>\n",
       "      <td>0.0</td>\n",
       "      <td>2018-01-01</td>\n",
       "      <td>00:30:00</td>\n",
       "      <td>1</td>\n",
       "      <td>2018</td>\n",
       "      <td>Monday</td>\n",
       "      <td>January</td>\n",
       "    </tr>\n",
       "    <tr>\n",
       "      <th>3</th>\n",
       "      <td>2018-01-01 00:45:00</td>\n",
       "      <td>713.93870</td>\n",
       "      <td>10.06425</td>\n",
       "      <td>10.06425</td>\n",
       "      <td>0.973875</td>\n",
       "      <td>8.843625</td>\n",
       "      <td>0.0</td>\n",
       "      <td>0.0</td>\n",
       "      <td>2018-01-01</td>\n",
       "      <td>00:45:00</td>\n",
       "      <td>1</td>\n",
       "      <td>2018</td>\n",
       "      <td>Monday</td>\n",
       "      <td>January</td>\n",
       "    </tr>\n",
       "    <tr>\n",
       "      <th>4</th>\n",
       "      <td>2018-01-01 01:00:00</td>\n",
       "      <td>699.23007</td>\n",
       "      <td>9.93300</td>\n",
       "      <td>9.93300</td>\n",
       "      <td>0.980000</td>\n",
       "      <td>8.809500</td>\n",
       "      <td>0.0</td>\n",
       "      <td>0.0</td>\n",
       "      <td>2018-01-01</td>\n",
       "      <td>01:00:00</td>\n",
       "      <td>1</td>\n",
       "      <td>2018</td>\n",
       "      <td>Monday</td>\n",
       "      <td>January</td>\n",
       "    </tr>\n",
       "  </tbody>\n",
       "</table>\n",
       "</div>"
      ],
      "text/plain": [
       "             datetime       load  apparent_temperature  temperature  humidity  \\\n",
       "0 2018-01-01 00:00:00  803.22270              10.45800     10.45800  0.955500   \n",
       "1 2018-01-01 00:15:00  774.89523              10.32675     10.32675  0.961625   \n",
       "2 2018-01-01 00:30:00  731.46927              10.19550     10.19550  0.967750   \n",
       "3 2018-01-01 00:45:00  713.93870              10.06425     10.06425  0.973875   \n",
       "4 2018-01-01 01:00:00  699.23007               9.93300      9.93300  0.980000   \n",
       "\n",
       "   dew_point  wind_speed  cloud_cover        date      time  month  year  \\\n",
       "0   8.946000         0.0          0.0  2018-01-01  00:00:00      1  2018   \n",
       "1   8.911875         0.0          0.0  2018-01-01  00:15:00      1  2018   \n",
       "2   8.877750         0.0          0.0  2018-01-01  00:30:00      1  2018   \n",
       "3   8.843625         0.0          0.0  2018-01-01  00:45:00      1  2018   \n",
       "4   8.809500         0.0          0.0  2018-01-01  01:00:00      1  2018   \n",
       "\n",
       "      day month_name  \n",
       "0  Monday    January  \n",
       "1  Monday    January  \n",
       "2  Monday    January  \n",
       "3  Monday    January  \n",
       "4  Monday    January  "
      ]
     },
     "execution_count": 11,
     "metadata": {},
     "output_type": "execute_result"
    }
   ],
   "source": [
    "df.head()"
   ]
  },
  {
   "cell_type": "code",
   "execution_count": 12,
   "id": "2ouoaY3aI605",
   "metadata": {
    "colab": {
     "base_uri": "https://localhost:8080/",
     "height": 331
    },
    "id": "2ouoaY3aI605",
    "outputId": "5c405a10-a397-47ac-aad9-396c9dc3582c"
   },
   "outputs": [
    {
     "data": {
      "text/html": [
       "<div>\n",
       "<style scoped>\n",
       "    .dataframe tbody tr th:only-of-type {\n",
       "        vertical-align: middle;\n",
       "    }\n",
       "\n",
       "    .dataframe tbody tr th {\n",
       "        vertical-align: top;\n",
       "    }\n",
       "\n",
       "    .dataframe thead th {\n",
       "        text-align: right;\n",
       "    }\n",
       "</style>\n",
       "<table border=\"1\" class=\"dataframe\">\n",
       "  <thead>\n",
       "    <tr style=\"text-align: right;\">\n",
       "      <th></th>\n",
       "      <th>load</th>\n",
       "      <th>apparent_temperature</th>\n",
       "      <th>temperature</th>\n",
       "      <th>humidity</th>\n",
       "      <th>dew_point</th>\n",
       "      <th>wind_speed</th>\n",
       "      <th>cloud_cover</th>\n",
       "      <th>month</th>\n",
       "      <th>year</th>\n",
       "    </tr>\n",
       "  </thead>\n",
       "  <tbody>\n",
       "    <tr>\n",
       "      <th>load</th>\n",
       "      <td>1.000000</td>\n",
       "      <td>0.744866</td>\n",
       "      <td>0.675415</td>\n",
       "      <td>-0.089618</td>\n",
       "      <td>0.585815</td>\n",
       "      <td>0.216450</td>\n",
       "      <td>0.268026</td>\n",
       "      <td>0.106799</td>\n",
       "      <td>-0.101725</td>\n",
       "    </tr>\n",
       "    <tr>\n",
       "      <th>apparent_temperature</th>\n",
       "      <td>0.744866</td>\n",
       "      <td>1.000000</td>\n",
       "      <td>0.962795</td>\n",
       "      <td>-0.313628</td>\n",
       "      <td>0.645864</td>\n",
       "      <td>0.321770</td>\n",
       "      <td>0.258003</td>\n",
       "      <td>0.155414</td>\n",
       "      <td>0.019338</td>\n",
       "    </tr>\n",
       "    <tr>\n",
       "      <th>temperature</th>\n",
       "      <td>0.675415</td>\n",
       "      <td>0.962795</td>\n",
       "      <td>1.000000</td>\n",
       "      <td>-0.500768</td>\n",
       "      <td>0.487387</td>\n",
       "      <td>0.338306</td>\n",
       "      <td>0.145123</td>\n",
       "      <td>0.109900</td>\n",
       "      <td>0.023363</td>\n",
       "    </tr>\n",
       "    <tr>\n",
       "      <th>humidity</th>\n",
       "      <td>-0.089618</td>\n",
       "      <td>-0.313628</td>\n",
       "      <td>-0.500768</td>\n",
       "      <td>1.000000</td>\n",
       "      <td>0.468220</td>\n",
       "      <td>-0.228351</td>\n",
       "      <td>0.332571</td>\n",
       "      <td>0.064254</td>\n",
       "      <td>-0.140115</td>\n",
       "    </tr>\n",
       "    <tr>\n",
       "      <th>dew_point</th>\n",
       "      <td>0.585815</td>\n",
       "      <td>0.645864</td>\n",
       "      <td>0.487387</td>\n",
       "      <td>0.468220</td>\n",
       "      <td>1.000000</td>\n",
       "      <td>0.103396</td>\n",
       "      <td>0.472508</td>\n",
       "      <td>0.206607</td>\n",
       "      <td>-0.099629</td>\n",
       "    </tr>\n",
       "    <tr>\n",
       "      <th>wind_speed</th>\n",
       "      <td>0.216450</td>\n",
       "      <td>0.321770</td>\n",
       "      <td>0.338306</td>\n",
       "      <td>-0.228351</td>\n",
       "      <td>0.103396</td>\n",
       "      <td>1.000000</td>\n",
       "      <td>0.109651</td>\n",
       "      <td>-0.175871</td>\n",
       "      <td>0.071047</td>\n",
       "    </tr>\n",
       "    <tr>\n",
       "      <th>cloud_cover</th>\n",
       "      <td>0.268026</td>\n",
       "      <td>0.258003</td>\n",
       "      <td>0.145123</td>\n",
       "      <td>0.332571</td>\n",
       "      <td>0.472508</td>\n",
       "      <td>0.109651</td>\n",
       "      <td>1.000000</td>\n",
       "      <td>0.030842</td>\n",
       "      <td>0.027675</td>\n",
       "    </tr>\n",
       "    <tr>\n",
       "      <th>month</th>\n",
       "      <td>0.106799</td>\n",
       "      <td>0.155414</td>\n",
       "      <td>0.109900</td>\n",
       "      <td>0.064254</td>\n",
       "      <td>0.206607</td>\n",
       "      <td>-0.175871</td>\n",
       "      <td>0.030842</td>\n",
       "      <td>1.000000</td>\n",
       "      <td>-0.033129</td>\n",
       "    </tr>\n",
       "    <tr>\n",
       "      <th>year</th>\n",
       "      <td>-0.101725</td>\n",
       "      <td>0.019338</td>\n",
       "      <td>0.023363</td>\n",
       "      <td>-0.140115</td>\n",
       "      <td>-0.099629</td>\n",
       "      <td>0.071047</td>\n",
       "      <td>0.027675</td>\n",
       "      <td>-0.033129</td>\n",
       "      <td>1.000000</td>\n",
       "    </tr>\n",
       "  </tbody>\n",
       "</table>\n",
       "</div>"
      ],
      "text/plain": [
       "                          load  apparent_temperature  temperature  humidity  \\\n",
       "load                  1.000000              0.744866     0.675415 -0.089618   \n",
       "apparent_temperature  0.744866              1.000000     0.962795 -0.313628   \n",
       "temperature           0.675415              0.962795     1.000000 -0.500768   \n",
       "humidity             -0.089618             -0.313628    -0.500768  1.000000   \n",
       "dew_point             0.585815              0.645864     0.487387  0.468220   \n",
       "wind_speed            0.216450              0.321770     0.338306 -0.228351   \n",
       "cloud_cover           0.268026              0.258003     0.145123  0.332571   \n",
       "month                 0.106799              0.155414     0.109900  0.064254   \n",
       "year                 -0.101725              0.019338     0.023363 -0.140115   \n",
       "\n",
       "                      dew_point  wind_speed  cloud_cover     month      year  \n",
       "load                   0.585815    0.216450     0.268026  0.106799 -0.101725  \n",
       "apparent_temperature   0.645864    0.321770     0.258003  0.155414  0.019338  \n",
       "temperature            0.487387    0.338306     0.145123  0.109900  0.023363  \n",
       "humidity               0.468220   -0.228351     0.332571  0.064254 -0.140115  \n",
       "dew_point              1.000000    0.103396     0.472508  0.206607 -0.099629  \n",
       "wind_speed             0.103396    1.000000     0.109651 -0.175871  0.071047  \n",
       "cloud_cover            0.472508    0.109651     1.000000  0.030842  0.027675  \n",
       "month                  0.206607   -0.175871     0.030842  1.000000 -0.033129  \n",
       "year                  -0.099629    0.071047     0.027675 -0.033129  1.000000  "
      ]
     },
     "execution_count": 12,
     "metadata": {},
     "output_type": "execute_result"
    }
   ],
   "source": [
    "df.corr()"
   ]
  },
  {
   "cell_type": "code",
   "execution_count": 13,
   "id": "9339057e",
   "metadata": {
    "colab": {
     "base_uri": "https://localhost:8080/"
    },
    "id": "9339057e",
    "outputId": "b4f65bb2-d946-412e-8e9f-1334c15dd4b0"
   },
   "outputs": [
    {
     "data": {
      "text/plain": [
       "datetime                datetime64[ns]\n",
       "load                           float64\n",
       "apparent_temperature           float64\n",
       "temperature                    float64\n",
       "humidity                       float64\n",
       "dew_point                      float64\n",
       "wind_speed                     float64\n",
       "cloud_cover                    float64\n",
       "date                            object\n",
       "time                            object\n",
       "month                            int64\n",
       "year                             int64\n",
       "day                             object\n",
       "month_name                      object\n",
       "dtype: object"
      ]
     },
     "execution_count": 13,
     "metadata": {},
     "output_type": "execute_result"
    }
   ],
   "source": [
    "df.dtypes"
   ]
  },
  {
   "cell_type": "code",
   "execution_count": 14,
   "id": "2037dae8",
   "metadata": {
    "colab": {
     "base_uri": "https://localhost:8080/",
     "height": 444
    },
    "id": "2037dae8",
    "outputId": "124eb7d9-c0be-44e4-88e9-3edac9132add"
   },
   "outputs": [
    {
     "data": {
      "text/html": [
       "<div>\n",
       "<style scoped>\n",
       "    .dataframe tbody tr th:only-of-type {\n",
       "        vertical-align: middle;\n",
       "    }\n",
       "\n",
       "    .dataframe tbody tr th {\n",
       "        vertical-align: top;\n",
       "    }\n",
       "\n",
       "    .dataframe thead th {\n",
       "        text-align: right;\n",
       "    }\n",
       "</style>\n",
       "<table border=\"1\" class=\"dataframe\">\n",
       "  <thead>\n",
       "    <tr style=\"text-align: right;\">\n",
       "      <th></th>\n",
       "      <th>datetime</th>\n",
       "      <th>load</th>\n",
       "      <th>apparent_temperature</th>\n",
       "      <th>temperature</th>\n",
       "      <th>humidity</th>\n",
       "      <th>dew_point</th>\n",
       "      <th>wind_speed</th>\n",
       "      <th>cloud_cover</th>\n",
       "      <th>date</th>\n",
       "      <th>time</th>\n",
       "      <th>month</th>\n",
       "      <th>year</th>\n",
       "      <th>day</th>\n",
       "      <th>month_name</th>\n",
       "    </tr>\n",
       "  </thead>\n",
       "  <tbody>\n",
       "    <tr>\n",
       "      <th>0</th>\n",
       "      <td>2018-01-01 00:00:00</td>\n",
       "      <td>803.22270</td>\n",
       "      <td>10.45800</td>\n",
       "      <td>10.45800</td>\n",
       "      <td>0.955500</td>\n",
       "      <td>8.946000</td>\n",
       "      <td>0.0</td>\n",
       "      <td>0.0</td>\n",
       "      <td>2018-01-01</td>\n",
       "      <td>00:00:00</td>\n",
       "      <td>1</td>\n",
       "      <td>2018</td>\n",
       "      <td>Monday</td>\n",
       "      <td>January</td>\n",
       "    </tr>\n",
       "    <tr>\n",
       "      <th>1</th>\n",
       "      <td>2018-01-01 00:15:00</td>\n",
       "      <td>774.89523</td>\n",
       "      <td>10.32675</td>\n",
       "      <td>10.32675</td>\n",
       "      <td>0.961625</td>\n",
       "      <td>8.911875</td>\n",
       "      <td>0.0</td>\n",
       "      <td>0.0</td>\n",
       "      <td>2018-01-01</td>\n",
       "      <td>00:15:00</td>\n",
       "      <td>1</td>\n",
       "      <td>2018</td>\n",
       "      <td>Monday</td>\n",
       "      <td>January</td>\n",
       "    </tr>\n",
       "    <tr>\n",
       "      <th>2</th>\n",
       "      <td>2018-01-01 00:30:00</td>\n",
       "      <td>731.46927</td>\n",
       "      <td>10.19550</td>\n",
       "      <td>10.19550</td>\n",
       "      <td>0.967750</td>\n",
       "      <td>8.877750</td>\n",
       "      <td>0.0</td>\n",
       "      <td>0.0</td>\n",
       "      <td>2018-01-01</td>\n",
       "      <td>00:30:00</td>\n",
       "      <td>1</td>\n",
       "      <td>2018</td>\n",
       "      <td>Monday</td>\n",
       "      <td>January</td>\n",
       "    </tr>\n",
       "    <tr>\n",
       "      <th>3</th>\n",
       "      <td>2018-01-01 00:45:00</td>\n",
       "      <td>713.93870</td>\n",
       "      <td>10.06425</td>\n",
       "      <td>10.06425</td>\n",
       "      <td>0.973875</td>\n",
       "      <td>8.843625</td>\n",
       "      <td>0.0</td>\n",
       "      <td>0.0</td>\n",
       "      <td>2018-01-01</td>\n",
       "      <td>00:45:00</td>\n",
       "      <td>1</td>\n",
       "      <td>2018</td>\n",
       "      <td>Monday</td>\n",
       "      <td>January</td>\n",
       "    </tr>\n",
       "    <tr>\n",
       "      <th>4</th>\n",
       "      <td>2018-01-01 01:00:00</td>\n",
       "      <td>699.23007</td>\n",
       "      <td>9.93300</td>\n",
       "      <td>9.93300</td>\n",
       "      <td>0.980000</td>\n",
       "      <td>8.809500</td>\n",
       "      <td>0.0</td>\n",
       "      <td>0.0</td>\n",
       "      <td>2018-01-01</td>\n",
       "      <td>01:00:00</td>\n",
       "      <td>1</td>\n",
       "      <td>2018</td>\n",
       "      <td>Monday</td>\n",
       "      <td>January</td>\n",
       "    </tr>\n",
       "  </tbody>\n",
       "</table>\n",
       "</div>"
      ],
      "text/plain": [
       "             datetime       load  apparent_temperature  temperature  humidity  \\\n",
       "0 2018-01-01 00:00:00  803.22270              10.45800     10.45800  0.955500   \n",
       "1 2018-01-01 00:15:00  774.89523              10.32675     10.32675  0.961625   \n",
       "2 2018-01-01 00:30:00  731.46927              10.19550     10.19550  0.967750   \n",
       "3 2018-01-01 00:45:00  713.93870              10.06425     10.06425  0.973875   \n",
       "4 2018-01-01 01:00:00  699.23007               9.93300      9.93300  0.980000   \n",
       "\n",
       "   dew_point  wind_speed  cloud_cover        date      time  month  year  \\\n",
       "0   8.946000         0.0          0.0  2018-01-01  00:00:00      1  2018   \n",
       "1   8.911875         0.0          0.0  2018-01-01  00:15:00      1  2018   \n",
       "2   8.877750         0.0          0.0  2018-01-01  00:30:00      1  2018   \n",
       "3   8.843625         0.0          0.0  2018-01-01  00:45:00      1  2018   \n",
       "4   8.809500         0.0          0.0  2018-01-01  01:00:00      1  2018   \n",
       "\n",
       "      day month_name  \n",
       "0  Monday    January  \n",
       "1  Monday    January  \n",
       "2  Monday    January  \n",
       "3  Monday    January  \n",
       "4  Monday    January  "
      ]
     },
     "execution_count": 14,
     "metadata": {},
     "output_type": "execute_result"
    }
   ],
   "source": [
    "df.head()"
   ]
  },
  {
   "cell_type": "markdown",
   "id": "d430cad0",
   "metadata": {},
   "source": [
    "# Data visualization"
   ]
  },
  {
   "cell_type": "code",
   "execution_count": 15,
   "id": "ae5a3ebc",
   "metadata": {
    "colab": {
     "base_uri": "https://localhost:8080/",
     "height": 340
    },
    "id": "ae5a3ebc",
    "outputId": "0c56525d-74de-4d51-f63b-d4b52b50ccab"
   },
   "outputs": [
    {
     "data": {
      "image/png": "[encoded data removed]",
      "text/plain": [
       "<Figure size 432x288 with 1 Axes>"
      ]
     },
     "metadata": {
      "needs_background": "light"
     },
     "output_type": "display_data"
    }
   ],
   "source": [
    "sns.barplot(x=df[\"day\"], y=df[\"load\"])\n",
    "plt.xticks(rotation=60)\n",
    "plt.xlabel(\"day\")\n",
    "plt.ylabel(\"load\")\n",
    "plt.title(\"day vs load\");"
   ]
  },
  {
   "cell_type": "markdown",
   "id": "45732968",
   "metadata": {
    "id": "45732968"
   },
   "source": [
    "It seems sunday is the load is reduced, its due to the holiday for the industries."
   ]
  },
  {
   "cell_type": "code",
   "execution_count": 16,
   "id": "b1194795",
   "metadata": {
    "colab": {
     "base_uri": "https://localhost:8080/",
     "height": 322
    },
    "id": "b1194795",
    "outputId": "ebee35a0-8ec4-4e8a-97c3-a08063ddb0d6"
   },
   "outputs": [
    {
     "data": {
      "image/png": "[encoded data removed]",
      "text/plain": [
       "<Figure size 432x288 with 1 Axes>"
      ]
     },
     "metadata": {
      "needs_background": "light"
     },
     "output_type": "display_data"
    }
   ],
   "source": [
    "sns.barplot(x=df[\"month_name\"], y=df[\"load\"])\n",
    "plt.xticks(rotation=60)\n",
    "plt.xlabel(\"Month\");\n",
    "plt.ylabel(\"load\")\n",
    "plt.title(\"Month vs load\");"
   ]
  },
  {
   "cell_type": "markdown",
   "id": "cf7d689b",
   "metadata": {},
   "source": [
    "During the sesonal change to summer load is increased.."
   ]
  },
  {
   "cell_type": "code",
   "execution_count": 17,
   "id": "9C6ktrOvJO2h",
   "metadata": {
    "colab": {
     "base_uri": "https://localhost:8080/",
     "height": 522
    },
    "id": "9C6ktrOvJO2h",
    "outputId": "1920a166-9de5-4bdc-a86f-4fa99918948d"
   },
   "outputs": [
    {
     "data": {
      "image/png": "[encoded data removed]",
      "text/plain": [
       "<Figure size 1800x720 with 1 Axes>"
      ]
     },
     "metadata": {
      "needs_background": "light"
     },
     "output_type": "display_data"
    }
   ],
   "source": [
    "plt.figure(figsize=(25,10))\n",
    "sns.barplot(x=df[\"time\"], y=df[\"load\"])\n",
    "plt.xticks(rotation=60)\n",
    "plt.xlabel(\"time\")\n",
    "plt.ylabel(\"load\")\n",
    "plt.title(\"time vs load\");"
   ]
  },
  {
   "cell_type": "markdown",
   "id": "129623a2",
   "metadata": {},
   "source": [
    "It seem morning the data load is reduced this is mainly due to offtime for the employees."
   ]
  },
  {
   "cell_type": "code",
   "execution_count": 18,
   "id": "cb53a49f",
   "metadata": {
    "id": "cb53a49f"
   },
   "outputs": [],
   "source": [
    "#Encoding the minute column to extract the data\n",
    "from sklearn import preprocessing\n",
    "le = preprocessing.LabelEncoder()"
   ]
  },
  {
   "cell_type": "code",
   "execution_count": 19,
   "id": "ba1ea466",
   "metadata": {
    "id": "ba1ea466"
   },
   "outputs": [],
   "source": [
    "df['time_label']= le.fit_transform(df['time'])\n",
    "df['day_label']= le.fit_transform(df['day'])"
   ]
  },
  {
   "cell_type": "code",
   "execution_count": 20,
   "id": "8a2ad69b",
   "metadata": {
    "colab": {
     "base_uri": "https://localhost:8080/",
     "height": 444
    },
    "id": "8a2ad69b",
    "outputId": "07d36cac-cbe1-493c-f9b3-bcd0277f1e55"
   },
   "outputs": [
    {
     "data": {
      "text/html": [
       "<div>\n",
       "<style scoped>\n",
       "    .dataframe tbody tr th:only-of-type {\n",
       "        vertical-align: middle;\n",
       "    }\n",
       "\n",
       "    .dataframe tbody tr th {\n",
       "        vertical-align: top;\n",
       "    }\n",
       "\n",
       "    .dataframe thead th {\n",
       "        text-align: right;\n",
       "    }\n",
       "</style>\n",
       "<table border=\"1\" class=\"dataframe\">\n",
       "  <thead>\n",
       "    <tr style=\"text-align: right;\">\n",
       "      <th></th>\n",
       "      <th>datetime</th>\n",
       "      <th>load</th>\n",
       "      <th>apparent_temperature</th>\n",
       "      <th>temperature</th>\n",
       "      <th>humidity</th>\n",
       "      <th>dew_point</th>\n",
       "      <th>wind_speed</th>\n",
       "      <th>cloud_cover</th>\n",
       "      <th>date</th>\n",
       "      <th>time</th>\n",
       "      <th>month</th>\n",
       "      <th>year</th>\n",
       "      <th>day</th>\n",
       "      <th>month_name</th>\n",
       "      <th>time_label</th>\n",
       "      <th>day_label</th>\n",
       "    </tr>\n",
       "  </thead>\n",
       "  <tbody>\n",
       "    <tr>\n",
       "      <th>103579</th>\n",
       "      <td>2020-12-14 22:45:00</td>\n",
       "      <td>NaN</td>\n",
       "      <td>12.450375</td>\n",
       "      <td>12.450375</td>\n",
       "      <td>0.611625</td>\n",
       "      <td>4.087125</td>\n",
       "      <td>1.9110</td>\n",
       "      <td>0.0000</td>\n",
       "      <td>2020-12-14</td>\n",
       "      <td>22:45:00</td>\n",
       "      <td>12</td>\n",
       "      <td>2020</td>\n",
       "      <td>Monday</td>\n",
       "      <td>December</td>\n",
       "      <td>91</td>\n",
       "      <td>1</td>\n",
       "    </tr>\n",
       "    <tr>\n",
       "      <th>103580</th>\n",
       "      <td>2020-12-14 23:00:00</td>\n",
       "      <td>NaN</td>\n",
       "      <td>12.285000</td>\n",
       "      <td>12.285000</td>\n",
       "      <td>0.619500</td>\n",
       "      <td>4.084500</td>\n",
       "      <td>1.8795</td>\n",
       "      <td>0.0000</td>\n",
       "      <td>2020-12-14</td>\n",
       "      <td>23:00:00</td>\n",
       "      <td>12</td>\n",
       "      <td>2020</td>\n",
       "      <td>Monday</td>\n",
       "      <td>December</td>\n",
       "      <td>92</td>\n",
       "      <td>1</td>\n",
       "    </tr>\n",
       "    <tr>\n",
       "      <th>103581</th>\n",
       "      <td>2020-12-14 23:15:00</td>\n",
       "      <td>NaN</td>\n",
       "      <td>13.650000</td>\n",
       "      <td>13.650000</td>\n",
       "      <td>0.829500</td>\n",
       "      <td>8.589000</td>\n",
       "      <td>2.4675</td>\n",
       "      <td>0.8925</td>\n",
       "      <td>2020-12-14</td>\n",
       "      <td>23:15:00</td>\n",
       "      <td>12</td>\n",
       "      <td>2020</td>\n",
       "      <td>Monday</td>\n",
       "      <td>December</td>\n",
       "      <td>93</td>\n",
       "      <td>1</td>\n",
       "    </tr>\n",
       "    <tr>\n",
       "      <th>103582</th>\n",
       "      <td>2020-12-14 23:30:00</td>\n",
       "      <td>NaN</td>\n",
       "      <td>13.650000</td>\n",
       "      <td>13.650000</td>\n",
       "      <td>0.829500</td>\n",
       "      <td>8.610000</td>\n",
       "      <td>2.4150</td>\n",
       "      <td>0.8925</td>\n",
       "      <td>2020-12-14</td>\n",
       "      <td>23:30:00</td>\n",
       "      <td>12</td>\n",
       "      <td>2020</td>\n",
       "      <td>Monday</td>\n",
       "      <td>December</td>\n",
       "      <td>94</td>\n",
       "      <td>1</td>\n",
       "    </tr>\n",
       "    <tr>\n",
       "      <th>103583</th>\n",
       "      <td>2020-12-14 23:45:00</td>\n",
       "      <td>NaN</td>\n",
       "      <td>13.387500</td>\n",
       "      <td>13.387500</td>\n",
       "      <td>0.840000</td>\n",
       "      <td>8.662500</td>\n",
       "      <td>2.4150</td>\n",
       "      <td>0.8610</td>\n",
       "      <td>2020-12-14</td>\n",
       "      <td>23:45:00</td>\n",
       "      <td>12</td>\n",
       "      <td>2020</td>\n",
       "      <td>Monday</td>\n",
       "      <td>December</td>\n",
       "      <td>95</td>\n",
       "      <td>1</td>\n",
       "    </tr>\n",
       "  </tbody>\n",
       "</table>\n",
       "</div>"
      ],
      "text/plain": [
       "                  datetime  load  apparent_temperature  temperature  humidity  \\\n",
       "103579 2020-12-14 22:45:00   NaN             12.450375    12.450375  0.611625   \n",
       "103580 2020-12-14 23:00:00   NaN             12.285000    12.285000  0.619500   \n",
       "103581 2020-12-14 23:15:00   NaN             13.650000    13.650000  0.829500   \n",
       "103582 2020-12-14 23:30:00   NaN             13.650000    13.650000  0.829500   \n",
       "103583 2020-12-14 23:45:00   NaN             13.387500    13.387500  0.840000   \n",
       "\n",
       "        dew_point  wind_speed  cloud_cover        date      time  month  year  \\\n",
       "103579   4.087125      1.9110       0.0000  2020-12-14  22:45:00     12  2020   \n",
       "103580   4.084500      1.8795       0.0000  2020-12-14  23:00:00     12  2020   \n",
       "103581   8.589000      2.4675       0.8925  2020-12-14  23:15:00     12  2020   \n",
       "103582   8.610000      2.4150       0.8925  2020-12-14  23:30:00     12  2020   \n",
       "103583   8.662500      2.4150       0.8610  2020-12-14  23:45:00     12  2020   \n",
       "\n",
       "           day month_name  time_label  day_label  \n",
       "103579  Monday   December          91          1  \n",
       "103580  Monday   December          92          1  \n",
       "103581  Monday   December          93          1  \n",
       "103582  Monday   December          94          1  \n",
       "103583  Monday   December          95          1  "
      ]
     },
     "execution_count": 20,
     "metadata": {},
     "output_type": "execute_result"
    }
   ],
   "source": [
    "df.tail()"
   ]
  },
  {
   "cell_type": "code",
   "execution_count": 21,
   "id": "16ced8c1",
   "metadata": {
    "colab": {
     "base_uri": "https://localhost:8080/"
    },
    "id": "16ced8c1",
    "outputId": "f84b2789-fa80-42fa-c02d-14368f051a33"
   },
   "outputs": [
    {
     "data": {
      "text/plain": [
       "1    14880\n",
       "5    14784\n",
       "6    14784\n",
       "4    14784\n",
       "0    14784\n",
       "2    14784\n",
       "3    14784\n",
       "Name: day_label, dtype: int64"
      ]
     },
     "execution_count": 21,
     "metadata": {},
     "output_type": "execute_result"
    }
   ],
   "source": [
    "df.day_label.value_counts()"
   ]
  },
  {
   "cell_type": "code",
   "execution_count": 22,
   "id": "a5bb8cf0",
   "metadata": {
    "colab": {
     "base_uri": "https://localhost:8080/",
     "height": 364
    },
    "id": "a5bb8cf0",
    "outputId": "6d1256cd-53b6-40d4-9779-c0d398784d58"
   },
   "outputs": [
    {
     "data": {
      "text/html": [
       "<div>\n",
       "<style scoped>\n",
       "    .dataframe tbody tr th:only-of-type {\n",
       "        vertical-align: middle;\n",
       "    }\n",
       "\n",
       "    .dataframe tbody tr th {\n",
       "        vertical-align: top;\n",
       "    }\n",
       "\n",
       "    .dataframe thead th {\n",
       "        text-align: right;\n",
       "    }\n",
       "</style>\n",
       "<table border=\"1\" class=\"dataframe\">\n",
       "  <thead>\n",
       "    <tr style=\"text-align: right;\">\n",
       "      <th></th>\n",
       "      <th>load</th>\n",
       "      <th>apparent_temperature</th>\n",
       "      <th>temperature</th>\n",
       "      <th>humidity</th>\n",
       "      <th>dew_point</th>\n",
       "      <th>wind_speed</th>\n",
       "      <th>cloud_cover</th>\n",
       "      <th>month</th>\n",
       "      <th>year</th>\n",
       "      <th>time_label</th>\n",
       "      <th>day_label</th>\n",
       "    </tr>\n",
       "  </thead>\n",
       "  <tbody>\n",
       "    <tr>\n",
       "      <th>count</th>\n",
       "      <td>101952.000000</td>\n",
       "      <td>103584.000000</td>\n",
       "      <td>103584.000000</td>\n",
       "      <td>103584.000000</td>\n",
       "      <td>103584.000000</td>\n",
       "      <td>103584.000000</td>\n",
       "      <td>103584.000000</td>\n",
       "      <td>103584.000000</td>\n",
       "      <td>103584.000000</td>\n",
       "      <td>103584.000000</td>\n",
       "      <td>103584.000000</td>\n",
       "    </tr>\n",
       "    <tr>\n",
       "      <th>mean</th>\n",
       "      <td>1558.964330</td>\n",
       "      <td>29.084052</td>\n",
       "      <td>27.080153</td>\n",
       "      <td>0.602338</td>\n",
       "      <td>15.890729</td>\n",
       "      <td>2.431892</td>\n",
       "      <td>0.329437</td>\n",
       "      <td>6.435589</td>\n",
       "      <td>2018.985171</td>\n",
       "      <td>47.500000</td>\n",
       "      <td>2.998146</td>\n",
       "    </tr>\n",
       "    <tr>\n",
       "      <th>std</th>\n",
       "      <td>531.116557</td>\n",
       "      <td>10.411410</td>\n",
       "      <td>8.496460</td>\n",
       "      <td>0.235395</td>\n",
       "      <td>7.938254</td>\n",
       "      <td>1.365737</td>\n",
       "      <td>0.334519</td>\n",
       "      <td>3.406285</td>\n",
       "      <td>0.813333</td>\n",
       "      <td>27.711443</td>\n",
       "      <td>2.000009</td>\n",
       "    </tr>\n",
       "    <tr>\n",
       "      <th>min</th>\n",
       "      <td>480.631730</td>\n",
       "      <td>2.173500</td>\n",
       "      <td>3.685500</td>\n",
       "      <td>0.042000</td>\n",
       "      <td>-13.692000</td>\n",
       "      <td>0.000000</td>\n",
       "      <td>0.000000</td>\n",
       "      <td>1.000000</td>\n",
       "      <td>2018.000000</td>\n",
       "      <td>0.000000</td>\n",
       "      <td>0.000000</td>\n",
       "    </tr>\n",
       "    <tr>\n",
       "      <th>25%</th>\n",
       "      <td>1184.992600</td>\n",
       "      <td>20.590500</td>\n",
       "      <td>20.559000</td>\n",
       "      <td>0.420000</td>\n",
       "      <td>9.783375</td>\n",
       "      <td>1.477875</td>\n",
       "      <td>0.000000</td>\n",
       "      <td>3.000000</td>\n",
       "      <td>2018.000000</td>\n",
       "      <td>23.750000</td>\n",
       "      <td>1.000000</td>\n",
       "    </tr>\n",
       "    <tr>\n",
       "      <th>50%</th>\n",
       "      <td>1496.820000</td>\n",
       "      <td>29.922375</td>\n",
       "      <td>28.621688</td>\n",
       "      <td>0.609000</td>\n",
       "      <td>14.899500</td>\n",
       "      <td>2.352000</td>\n",
       "      <td>0.215250</td>\n",
       "      <td>6.000000</td>\n",
       "      <td>2019.000000</td>\n",
       "      <td>47.500000</td>\n",
       "      <td>3.000000</td>\n",
       "    </tr>\n",
       "    <tr>\n",
       "      <th>75%</th>\n",
       "      <td>1935.745800</td>\n",
       "      <td>37.458750</td>\n",
       "      <td>33.348000</td>\n",
       "      <td>0.798000</td>\n",
       "      <td>23.887500</td>\n",
       "      <td>3.286500</td>\n",
       "      <td>0.582750</td>\n",
       "      <td>9.000000</td>\n",
       "      <td>2020.000000</td>\n",
       "      <td>71.250000</td>\n",
       "      <td>5.000000</td>\n",
       "    </tr>\n",
       "    <tr>\n",
       "      <th>max</th>\n",
       "      <td>3230.848600</td>\n",
       "      <td>56.731500</td>\n",
       "      <td>47.943000</td>\n",
       "      <td>1.050000</td>\n",
       "      <td>31.059000</td>\n",
       "      <td>10.321500</td>\n",
       "      <td>1.050000</td>\n",
       "      <td>12.000000</td>\n",
       "      <td>2020.000000</td>\n",
       "      <td>95.000000</td>\n",
       "      <td>6.000000</td>\n",
       "    </tr>\n",
       "  </tbody>\n",
       "</table>\n",
       "</div>"
      ],
      "text/plain": [
       "                load  apparent_temperature    temperature       humidity  \\\n",
       "count  101952.000000         103584.000000  103584.000000  103584.000000   \n",
       "mean     1558.964330             29.084052      27.080153       0.602338   \n",
       "std       531.116557             10.411410       8.496460       0.235395   \n",
       "min       480.631730              2.173500       3.685500       0.042000   \n",
       "25%      1184.992600             20.590500      20.559000       0.420000   \n",
       "50%      1496.820000             29.922375      28.621688       0.609000   \n",
       "75%      1935.745800             37.458750      33.348000       0.798000   \n",
       "max      3230.848600             56.731500      47.943000       1.050000   \n",
       "\n",
       "           dew_point     wind_speed    cloud_cover          month  \\\n",
       "count  103584.000000  103584.000000  103584.000000  103584.000000   \n",
       "mean       15.890729       2.431892       0.329437       6.435589   \n",
       "std         7.938254       1.365737       0.334519       3.406285   \n",
       "min       -13.692000       0.000000       0.000000       1.000000   \n",
       "25%         9.783375       1.477875       0.000000       3.000000   \n",
       "50%        14.899500       2.352000       0.215250       6.000000   \n",
       "75%        23.887500       3.286500       0.582750       9.000000   \n",
       "max        31.059000      10.321500       1.050000      12.000000   \n",
       "\n",
       "                year     time_label      day_label  \n",
       "count  103584.000000  103584.000000  103584.000000  \n",
       "mean     2018.985171      47.500000       2.998146  \n",
       "std         0.813333      27.711443       2.000009  \n",
       "min      2018.000000       0.000000       0.000000  \n",
       "25%      2018.000000      23.750000       1.000000  \n",
       "50%      2019.000000      47.500000       3.000000  \n",
       "75%      2020.000000      71.250000       5.000000  \n",
       "max      2020.000000      95.000000       6.000000  "
      ]
     },
     "execution_count": 22,
     "metadata": {},
     "output_type": "execute_result"
    }
   ],
   "source": [
    "df.describe()"
   ]
  },
  {
   "cell_type": "code",
   "execution_count": 23,
   "id": "4d51cb82",
   "metadata": {
    "colab": {
     "base_uri": "https://localhost:8080/"
    },
    "id": "4d51cb82",
    "outputId": "a073425d-b6c7-430f-f50a-a89260d14e4f"
   },
   "outputs": [
    {
     "data": {
      "text/plain": [
       "datetime                datetime64[ns]\n",
       "load                           float64\n",
       "apparent_temperature           float64\n",
       "temperature                    float64\n",
       "humidity                       float64\n",
       "dew_point                      float64\n",
       "wind_speed                     float64\n",
       "cloud_cover                    float64\n",
       "date                            object\n",
       "time                            object\n",
       "month                            int64\n",
       "year                             int64\n",
       "day                             object\n",
       "month_name                      object\n",
       "time_label                       int32\n",
       "day_label                        int32\n",
       "dtype: object"
      ]
     },
     "execution_count": 23,
     "metadata": {},
     "output_type": "execute_result"
    }
   ],
   "source": [
    "df.dtypes"
   ]
  },
  {
   "cell_type": "code",
   "execution_count": 24,
   "id": "gvjXNK3fBdTq",
   "metadata": {
    "id": "gvjXNK3fBdTq"
   },
   "outputs": [],
   "source": [
    "final_df = df[[\"load\", \"apparent_temperature\", \"temperature\", \"humidity\", \n",
    "                      \"dew_point\", \"wind_speed\", \"cloud_cover\",\"month\",\n",
    "                      \"time_label\",\"day_label\"]]"
   ]
  },
  {
   "cell_type": "code",
   "execution_count": 25,
   "id": "lGSwshrNBv1c",
   "metadata": {
    "colab": {
     "base_uri": "https://localhost:8080/",
     "height": 206
    },
    "id": "lGSwshrNBv1c",
    "outputId": "50d8738e-8cf9-4424-af3d-0c1348a48688"
   },
   "outputs": [
    {
     "data": {
      "text/html": [
       "<div>\n",
       "<style scoped>\n",
       "    .dataframe tbody tr th:only-of-type {\n",
       "        vertical-align: middle;\n",
       "    }\n",
       "\n",
       "    .dataframe tbody tr th {\n",
       "        vertical-align: top;\n",
       "    }\n",
       "\n",
       "    .dataframe thead th {\n",
       "        text-align: right;\n",
       "    }\n",
       "</style>\n",
       "<table border=\"1\" class=\"dataframe\">\n",
       "  <thead>\n",
       "    <tr style=\"text-align: right;\">\n",
       "      <th></th>\n",
       "      <th>load</th>\n",
       "      <th>apparent_temperature</th>\n",
       "      <th>temperature</th>\n",
       "      <th>humidity</th>\n",
       "      <th>dew_point</th>\n",
       "      <th>wind_speed</th>\n",
       "      <th>cloud_cover</th>\n",
       "      <th>month</th>\n",
       "      <th>time_label</th>\n",
       "      <th>day_label</th>\n",
       "    </tr>\n",
       "  </thead>\n",
       "  <tbody>\n",
       "    <tr>\n",
       "      <th>0</th>\n",
       "      <td>803.22270</td>\n",
       "      <td>10.45800</td>\n",
       "      <td>10.45800</td>\n",
       "      <td>0.955500</td>\n",
       "      <td>8.946000</td>\n",
       "      <td>0.0</td>\n",
       "      <td>0.0</td>\n",
       "      <td>1</td>\n",
       "      <td>0</td>\n",
       "      <td>1</td>\n",
       "    </tr>\n",
       "    <tr>\n",
       "      <th>1</th>\n",
       "      <td>774.89523</td>\n",
       "      <td>10.32675</td>\n",
       "      <td>10.32675</td>\n",
       "      <td>0.961625</td>\n",
       "      <td>8.911875</td>\n",
       "      <td>0.0</td>\n",
       "      <td>0.0</td>\n",
       "      <td>1</td>\n",
       "      <td>1</td>\n",
       "      <td>1</td>\n",
       "    </tr>\n",
       "    <tr>\n",
       "      <th>2</th>\n",
       "      <td>731.46927</td>\n",
       "      <td>10.19550</td>\n",
       "      <td>10.19550</td>\n",
       "      <td>0.967750</td>\n",
       "      <td>8.877750</td>\n",
       "      <td>0.0</td>\n",
       "      <td>0.0</td>\n",
       "      <td>1</td>\n",
       "      <td>2</td>\n",
       "      <td>1</td>\n",
       "    </tr>\n",
       "    <tr>\n",
       "      <th>3</th>\n",
       "      <td>713.93870</td>\n",
       "      <td>10.06425</td>\n",
       "      <td>10.06425</td>\n",
       "      <td>0.973875</td>\n",
       "      <td>8.843625</td>\n",
       "      <td>0.0</td>\n",
       "      <td>0.0</td>\n",
       "      <td>1</td>\n",
       "      <td>3</td>\n",
       "      <td>1</td>\n",
       "    </tr>\n",
       "    <tr>\n",
       "      <th>4</th>\n",
       "      <td>699.23007</td>\n",
       "      <td>9.93300</td>\n",
       "      <td>9.93300</td>\n",
       "      <td>0.980000</td>\n",
       "      <td>8.809500</td>\n",
       "      <td>0.0</td>\n",
       "      <td>0.0</td>\n",
       "      <td>1</td>\n",
       "      <td>4</td>\n",
       "      <td>1</td>\n",
       "    </tr>\n",
       "  </tbody>\n",
       "</table>\n",
       "</div>"
      ],
      "text/plain": [
       "        load  apparent_temperature  temperature  humidity  dew_point  \\\n",
       "0  803.22270              10.45800     10.45800  0.955500   8.946000   \n",
       "1  774.89523              10.32675     10.32675  0.961625   8.911875   \n",
       "2  731.46927              10.19550     10.19550  0.967750   8.877750   \n",
       "3  713.93870              10.06425     10.06425  0.973875   8.843625   \n",
       "4  699.23007               9.93300      9.93300  0.980000   8.809500   \n",
       "\n",
       "   wind_speed  cloud_cover  month  time_label  day_label  \n",
       "0         0.0          0.0      1           0          1  \n",
       "1         0.0          0.0      1           1          1  \n",
       "2         0.0          0.0      1           2          1  \n",
       "3         0.0          0.0      1           3          1  \n",
       "4         0.0          0.0      1           4          1  "
      ]
     },
     "execution_count": 25,
     "metadata": {},
     "output_type": "execute_result"
    }
   ],
   "source": [
    "final_df.head()"
   ]
  },
  {
   "cell_type": "code",
   "execution_count": 26,
   "id": "D-VBiWEbB2Py",
   "metadata": {
    "colab": {
     "base_uri": "https://localhost:8080/"
    },
    "id": "D-VBiWEbB2Py",
    "outputId": "b851e7cc-77bd-4042-ae79-7bbda97a2057"
   },
   "outputs": [
    {
     "name": "stdout",
     "output_type": "stream",
     "text": [
      "<class 'pandas.core.frame.DataFrame'>\n",
      "RangeIndex: 103584 entries, 0 to 103583\n",
      "Data columns (total 10 columns):\n",
      " #   Column                Non-Null Count   Dtype  \n",
      "---  ------                --------------   -----  \n",
      " 0   load                  101952 non-null  float64\n",
      " 1   apparent_temperature  103584 non-null  float64\n",
      " 2   temperature           103584 non-null  float64\n",
      " 3   humidity              103584 non-null  float64\n",
      " 4   dew_point             103584 non-null  float64\n",
      " 5   wind_speed            103584 non-null  float64\n",
      " 6   cloud_cover           103584 non-null  float64\n",
      " 7   month                 103584 non-null  int64  \n",
      " 8   time_label            103584 non-null  int32  \n",
      " 9   day_label             103584 non-null  int32  \n",
      "dtypes: float64(7), int32(2), int64(1)\n",
      "memory usage: 7.1 MB\n"
     ]
    }
   ],
   "source": [
    "final_df.info()"
   ]
  },
  {
   "cell_type": "markdown",
   "id": "08ea8859",
   "metadata": {
    "id": "08ea8859"
   },
   "source": [
    "# Model building"
   ]
  },
  {
   "cell_type": "code",
   "execution_count": 27,
   "id": "10f26f53",
   "metadata": {},
   "outputs": [
    {
     "data": {
      "text/plain": [
       "load                    1632\n",
       "apparent_temperature       0\n",
       "temperature                0\n",
       "humidity                   0\n",
       "dew_point                  0\n",
       "wind_speed                 0\n",
       "cloud_cover                0\n",
       "month                      0\n",
       "time_label                 0\n",
       "day_label                  0\n",
       "dtype: int64"
      ]
     },
     "execution_count": 27,
     "metadata": {},
     "output_type": "execute_result"
    }
   ],
   "source": [
    "final_df.isna().sum()"
   ]
  },
  {
   "cell_type": "code",
   "execution_count": 28,
   "id": "c72b0d30",
   "metadata": {},
   "outputs": [
    {
     "name": "stdout",
     "output_type": "stream",
     "text": [
      "<class 'pandas.core.frame.DataFrame'>\n",
      "RangeIndex: 103584 entries, 0 to 103583\n",
      "Data columns (total 10 columns):\n",
      " #   Column                Non-Null Count   Dtype  \n",
      "---  ------                --------------   -----  \n",
      " 0   load                  101952 non-null  float64\n",
      " 1   apparent_temperature  103584 non-null  float64\n",
      " 2   temperature           103584 non-null  float64\n",
      " 3   humidity              103584 non-null  float64\n",
      " 4   dew_point             103584 non-null  float64\n",
      " 5   wind_speed            103584 non-null  float64\n",
      " 6   cloud_cover           103584 non-null  float64\n",
      " 7   month                 103584 non-null  int64  \n",
      " 8   time_label            103584 non-null  int32  \n",
      " 9   day_label             103584 non-null  int32  \n",
      "dtypes: float64(7), int32(2), int64(1)\n",
      "memory usage: 7.1 MB\n"
     ]
    }
   ],
   "source": [
    "#Splitting the data\n",
    "final_df.info()"
   ]
  },
  {
   "cell_type": "code",
   "execution_count": 29,
   "id": "7bf03cd1",
   "metadata": {},
   "outputs": [],
   "source": [
    "#Using 90 percent of data for test and 10 percent for test\n",
    "train_df = final_df[:93226]"
   ]
  },
  {
   "cell_type": "code",
   "execution_count": 30,
   "id": "412eafb8",
   "metadata": {},
   "outputs": [
    {
     "data": {
      "text/plain": [
       "10358.4"
      ]
     },
     "execution_count": 30,
     "metadata": {},
     "output_type": "execute_result"
    }
   ],
   "source": [
    "len(final_df)/10"
   ]
  },
  {
   "cell_type": "code",
   "execution_count": 31,
   "id": "ba317eae",
   "metadata": {},
   "outputs": [
    {
     "data": {
      "text/plain": [
       "93226"
      ]
     },
     "execution_count": 31,
     "metadata": {},
     "output_type": "execute_result"
    }
   ],
   "source": [
    "round(len(final_df)-len(final_df)/10)"
   ]
  },
  {
   "cell_type": "code",
   "execution_count": 32,
   "id": "7abb00b7",
   "metadata": {},
   "outputs": [
    {
     "data": {
      "text/html": [
       "<div>\n",
       "<style scoped>\n",
       "    .dataframe tbody tr th:only-of-type {\n",
       "        vertical-align: middle;\n",
       "    }\n",
       "\n",
       "    .dataframe tbody tr th {\n",
       "        vertical-align: top;\n",
       "    }\n",
       "\n",
       "    .dataframe thead th {\n",
       "        text-align: right;\n",
       "    }\n",
       "</style>\n",
       "<table border=\"1\" class=\"dataframe\">\n",
       "  <thead>\n",
       "    <tr style=\"text-align: right;\">\n",
       "      <th></th>\n",
       "      <th>load</th>\n",
       "      <th>apparent_temperature</th>\n",
       "      <th>temperature</th>\n",
       "      <th>humidity</th>\n",
       "      <th>dew_point</th>\n",
       "      <th>wind_speed</th>\n",
       "      <th>cloud_cover</th>\n",
       "      <th>month</th>\n",
       "      <th>time_label</th>\n",
       "      <th>day_label</th>\n",
       "    </tr>\n",
       "  </thead>\n",
       "  <tbody>\n",
       "    <tr>\n",
       "      <th>0</th>\n",
       "      <td>803.22270</td>\n",
       "      <td>10.458000</td>\n",
       "      <td>10.458000</td>\n",
       "      <td>0.955500</td>\n",
       "      <td>8.946000</td>\n",
       "      <td>0.000000</td>\n",
       "      <td>0.00000</td>\n",
       "      <td>1</td>\n",
       "      <td>0</td>\n",
       "      <td>1</td>\n",
       "    </tr>\n",
       "    <tr>\n",
       "      <th>1</th>\n",
       "      <td>774.89523</td>\n",
       "      <td>10.326750</td>\n",
       "      <td>10.326750</td>\n",
       "      <td>0.961625</td>\n",
       "      <td>8.911875</td>\n",
       "      <td>0.000000</td>\n",
       "      <td>0.00000</td>\n",
       "      <td>1</td>\n",
       "      <td>1</td>\n",
       "      <td>1</td>\n",
       "    </tr>\n",
       "    <tr>\n",
       "      <th>2</th>\n",
       "      <td>731.46927</td>\n",
       "      <td>10.195500</td>\n",
       "      <td>10.195500</td>\n",
       "      <td>0.967750</td>\n",
       "      <td>8.877750</td>\n",
       "      <td>0.000000</td>\n",
       "      <td>0.00000</td>\n",
       "      <td>1</td>\n",
       "      <td>2</td>\n",
       "      <td>1</td>\n",
       "    </tr>\n",
       "    <tr>\n",
       "      <th>3</th>\n",
       "      <td>713.93870</td>\n",
       "      <td>10.064250</td>\n",
       "      <td>10.064250</td>\n",
       "      <td>0.973875</td>\n",
       "      <td>8.843625</td>\n",
       "      <td>0.000000</td>\n",
       "      <td>0.00000</td>\n",
       "      <td>1</td>\n",
       "      <td>3</td>\n",
       "      <td>1</td>\n",
       "    </tr>\n",
       "    <tr>\n",
       "      <th>4</th>\n",
       "      <td>699.23007</td>\n",
       "      <td>9.933000</td>\n",
       "      <td>9.933000</td>\n",
       "      <td>0.980000</td>\n",
       "      <td>8.809500</td>\n",
       "      <td>0.000000</td>\n",
       "      <td>0.00000</td>\n",
       "      <td>1</td>\n",
       "      <td>4</td>\n",
       "      <td>1</td>\n",
       "    </tr>\n",
       "    <tr>\n",
       "      <th>...</th>\n",
       "      <td>...</td>\n",
       "      <td>...</td>\n",
       "      <td>...</td>\n",
       "      <td>...</td>\n",
       "      <td>...</td>\n",
       "      <td>...</td>\n",
       "      <td>...</td>\n",
       "      <td>...</td>\n",
       "      <td>...</td>\n",
       "      <td>...</td>\n",
       "    </tr>\n",
       "    <tr>\n",
       "      <th>93221</th>\n",
       "      <td>1793.76000</td>\n",
       "      <td>30.093000</td>\n",
       "      <td>27.628125</td>\n",
       "      <td>0.905625</td>\n",
       "      <td>25.095000</td>\n",
       "      <td>1.546125</td>\n",
       "      <td>0.19950</td>\n",
       "      <td>8</td>\n",
       "      <td>5</td>\n",
       "      <td>2</td>\n",
       "    </tr>\n",
       "    <tr>\n",
       "      <th>93222</th>\n",
       "      <td>1768.51000</td>\n",
       "      <td>29.914500</td>\n",
       "      <td>27.546750</td>\n",
       "      <td>0.908250</td>\n",
       "      <td>25.053000</td>\n",
       "      <td>1.496250</td>\n",
       "      <td>0.15750</td>\n",
       "      <td>8</td>\n",
       "      <td>6</td>\n",
       "      <td>2</td>\n",
       "    </tr>\n",
       "    <tr>\n",
       "      <th>93223</th>\n",
       "      <td>1746.29000</td>\n",
       "      <td>29.736000</td>\n",
       "      <td>27.465375</td>\n",
       "      <td>0.910875</td>\n",
       "      <td>25.011000</td>\n",
       "      <td>1.446375</td>\n",
       "      <td>0.11550</td>\n",
       "      <td>8</td>\n",
       "      <td>7</td>\n",
       "      <td>2</td>\n",
       "    </tr>\n",
       "    <tr>\n",
       "      <th>93224</th>\n",
       "      <td>1728.11000</td>\n",
       "      <td>29.557500</td>\n",
       "      <td>27.384000</td>\n",
       "      <td>0.913500</td>\n",
       "      <td>24.969000</td>\n",
       "      <td>1.396500</td>\n",
       "      <td>0.07350</td>\n",
       "      <td>8</td>\n",
       "      <td>8</td>\n",
       "      <td>2</td>\n",
       "    </tr>\n",
       "    <tr>\n",
       "      <th>93225</th>\n",
       "      <td>1704.88000</td>\n",
       "      <td>29.213625</td>\n",
       "      <td>27.260625</td>\n",
       "      <td>0.916125</td>\n",
       "      <td>24.887625</td>\n",
       "      <td>1.359750</td>\n",
       "      <td>0.05775</td>\n",
       "      <td>8</td>\n",
       "      <td>9</td>\n",
       "      <td>2</td>\n",
       "    </tr>\n",
       "  </tbody>\n",
       "</table>\n",
       "<p>93226 rows × 10 columns</p>\n",
       "</div>"
      ],
      "text/plain": [
       "             load  apparent_temperature  temperature  humidity  dew_point  \\\n",
       "0       803.22270             10.458000    10.458000  0.955500   8.946000   \n",
       "1       774.89523             10.326750    10.326750  0.961625   8.911875   \n",
       "2       731.46927             10.195500    10.195500  0.967750   8.877750   \n",
       "3       713.93870             10.064250    10.064250  0.973875   8.843625   \n",
       "4       699.23007              9.933000     9.933000  0.980000   8.809500   \n",
       "...           ...                   ...          ...       ...        ...   \n",
       "93221  1793.76000             30.093000    27.628125  0.905625  25.095000   \n",
       "93222  1768.51000             29.914500    27.546750  0.908250  25.053000   \n",
       "93223  1746.29000             29.736000    27.465375  0.910875  25.011000   \n",
       "93224  1728.11000             29.557500    27.384000  0.913500  24.969000   \n",
       "93225  1704.88000             29.213625    27.260625  0.916125  24.887625   \n",
       "\n",
       "       wind_speed  cloud_cover  month  time_label  day_label  \n",
       "0        0.000000      0.00000      1           0          1  \n",
       "1        0.000000      0.00000      1           1          1  \n",
       "2        0.000000      0.00000      1           2          1  \n",
       "3        0.000000      0.00000      1           3          1  \n",
       "4        0.000000      0.00000      1           4          1  \n",
       "...           ...          ...    ...         ...        ...  \n",
       "93221    1.546125      0.19950      8           5          2  \n",
       "93222    1.496250      0.15750      8           6          2  \n",
       "93223    1.446375      0.11550      8           7          2  \n",
       "93224    1.396500      0.07350      8           8          2  \n",
       "93225    1.359750      0.05775      8           9          2  \n",
       "\n",
       "[93226 rows x 10 columns]"
      ]
     },
     "execution_count": 32,
     "metadata": {},
     "output_type": "execute_result"
    }
   ],
   "source": [
    "train_df"
   ]
  },
  {
   "cell_type": "code",
   "execution_count": 33,
   "id": "49f8bdff",
   "metadata": {},
   "outputs": [
    {
     "data": {
      "text/plain": [
       "load                    1152\n",
       "apparent_temperature       0\n",
       "temperature                0\n",
       "humidity                   0\n",
       "dew_point                  0\n",
       "wind_speed                 0\n",
       "cloud_cover                0\n",
       "month                      0\n",
       "time_label                 0\n",
       "day_label                  0\n",
       "dtype: int64"
      ]
     },
     "execution_count": 33,
     "metadata": {},
     "output_type": "execute_result"
    }
   ],
   "source": [
    "train_df.isna().sum()"
   ]
  },
  {
   "cell_type": "code",
   "execution_count": 34,
   "id": "57f4f61e",
   "metadata": {},
   "outputs": [
    {
     "data": {
      "text/html": [
       "<div>\n",
       "<style scoped>\n",
       "    .dataframe tbody tr th:only-of-type {\n",
       "        vertical-align: middle;\n",
       "    }\n",
       "\n",
       "    .dataframe tbody tr th {\n",
       "        vertical-align: top;\n",
       "    }\n",
       "\n",
       "    .dataframe thead th {\n",
       "        text-align: right;\n",
       "    }\n",
       "</style>\n",
       "<table border=\"1\" class=\"dataframe\">\n",
       "  <thead>\n",
       "    <tr style=\"text-align: right;\">\n",
       "      <th></th>\n",
       "      <th>load</th>\n",
       "      <th>apparent_temperature</th>\n",
       "      <th>temperature</th>\n",
       "      <th>humidity</th>\n",
       "      <th>dew_point</th>\n",
       "      <th>wind_speed</th>\n",
       "      <th>cloud_cover</th>\n",
       "      <th>month</th>\n",
       "      <th>time_label</th>\n",
       "      <th>day_label</th>\n",
       "    </tr>\n",
       "  </thead>\n",
       "  <tbody>\n",
       "    <tr>\n",
       "      <th>93226</th>\n",
       "      <td>1683.6700</td>\n",
       "      <td>28.869750</td>\n",
       "      <td>27.137250</td>\n",
       "      <td>0.918750</td>\n",
       "      <td>24.806250</td>\n",
       "      <td>1.323000</td>\n",
       "      <td>0.042000</td>\n",
       "      <td>8</td>\n",
       "      <td>10</td>\n",
       "      <td>2</td>\n",
       "    </tr>\n",
       "    <tr>\n",
       "      <th>93227</th>\n",
       "      <td>1669.5300</td>\n",
       "      <td>28.525875</td>\n",
       "      <td>27.013875</td>\n",
       "      <td>0.921375</td>\n",
       "      <td>24.724875</td>\n",
       "      <td>1.286250</td>\n",
       "      <td>0.026250</td>\n",
       "      <td>8</td>\n",
       "      <td>11</td>\n",
       "      <td>2</td>\n",
       "    </tr>\n",
       "    <tr>\n",
       "      <th>93228</th>\n",
       "      <td>1646.4616</td>\n",
       "      <td>28.182000</td>\n",
       "      <td>26.890500</td>\n",
       "      <td>0.924000</td>\n",
       "      <td>24.643500</td>\n",
       "      <td>1.249500</td>\n",
       "      <td>0.010500</td>\n",
       "      <td>8</td>\n",
       "      <td>12</td>\n",
       "      <td>2</td>\n",
       "    </tr>\n",
       "    <tr>\n",
       "      <th>93229</th>\n",
       "      <td>1631.3722</td>\n",
       "      <td>28.268625</td>\n",
       "      <td>26.932500</td>\n",
       "      <td>0.921375</td>\n",
       "      <td>24.619875</td>\n",
       "      <td>1.231125</td>\n",
       "      <td>0.013125</td>\n",
       "      <td>8</td>\n",
       "      <td>13</td>\n",
       "      <td>2</td>\n",
       "    </tr>\n",
       "    <tr>\n",
       "      <th>93230</th>\n",
       "      <td>1618.2422</td>\n",
       "      <td>28.355250</td>\n",
       "      <td>26.974500</td>\n",
       "      <td>0.918750</td>\n",
       "      <td>24.596250</td>\n",
       "      <td>1.212750</td>\n",
       "      <td>0.015750</td>\n",
       "      <td>8</td>\n",
       "      <td>14</td>\n",
       "      <td>2</td>\n",
       "    </tr>\n",
       "    <tr>\n",
       "      <th>...</th>\n",
       "      <td>...</td>\n",
       "      <td>...</td>\n",
       "      <td>...</td>\n",
       "      <td>...</td>\n",
       "      <td>...</td>\n",
       "      <td>...</td>\n",
       "      <td>...</td>\n",
       "      <td>...</td>\n",
       "      <td>...</td>\n",
       "      <td>...</td>\n",
       "    </tr>\n",
       "    <tr>\n",
       "      <th>103579</th>\n",
       "      <td>NaN</td>\n",
       "      <td>12.450375</td>\n",
       "      <td>12.450375</td>\n",
       "      <td>0.611625</td>\n",
       "      <td>4.087125</td>\n",
       "      <td>1.911000</td>\n",
       "      <td>0.000000</td>\n",
       "      <td>12</td>\n",
       "      <td>91</td>\n",
       "      <td>1</td>\n",
       "    </tr>\n",
       "    <tr>\n",
       "      <th>103580</th>\n",
       "      <td>NaN</td>\n",
       "      <td>12.285000</td>\n",
       "      <td>12.285000</td>\n",
       "      <td>0.619500</td>\n",
       "      <td>4.084500</td>\n",
       "      <td>1.879500</td>\n",
       "      <td>0.000000</td>\n",
       "      <td>12</td>\n",
       "      <td>92</td>\n",
       "      <td>1</td>\n",
       "    </tr>\n",
       "    <tr>\n",
       "      <th>103581</th>\n",
       "      <td>NaN</td>\n",
       "      <td>13.650000</td>\n",
       "      <td>13.650000</td>\n",
       "      <td>0.829500</td>\n",
       "      <td>8.589000</td>\n",
       "      <td>2.467500</td>\n",
       "      <td>0.892500</td>\n",
       "      <td>12</td>\n",
       "      <td>93</td>\n",
       "      <td>1</td>\n",
       "    </tr>\n",
       "    <tr>\n",
       "      <th>103582</th>\n",
       "      <td>NaN</td>\n",
       "      <td>13.650000</td>\n",
       "      <td>13.650000</td>\n",
       "      <td>0.829500</td>\n",
       "      <td>8.610000</td>\n",
       "      <td>2.415000</td>\n",
       "      <td>0.892500</td>\n",
       "      <td>12</td>\n",
       "      <td>94</td>\n",
       "      <td>1</td>\n",
       "    </tr>\n",
       "    <tr>\n",
       "      <th>103583</th>\n",
       "      <td>NaN</td>\n",
       "      <td>13.387500</td>\n",
       "      <td>13.387500</td>\n",
       "      <td>0.840000</td>\n",
       "      <td>8.662500</td>\n",
       "      <td>2.415000</td>\n",
       "      <td>0.861000</td>\n",
       "      <td>12</td>\n",
       "      <td>95</td>\n",
       "      <td>1</td>\n",
       "    </tr>\n",
       "  </tbody>\n",
       "</table>\n",
       "<p>10358 rows × 10 columns</p>\n",
       "</div>"
      ],
      "text/plain": [
       "             load  apparent_temperature  temperature  humidity  dew_point  \\\n",
       "93226   1683.6700             28.869750    27.137250  0.918750  24.806250   \n",
       "93227   1669.5300             28.525875    27.013875  0.921375  24.724875   \n",
       "93228   1646.4616             28.182000    26.890500  0.924000  24.643500   \n",
       "93229   1631.3722             28.268625    26.932500  0.921375  24.619875   \n",
       "93230   1618.2422             28.355250    26.974500  0.918750  24.596250   \n",
       "...           ...                   ...          ...       ...        ...   \n",
       "103579        NaN             12.450375    12.450375  0.611625   4.087125   \n",
       "103580        NaN             12.285000    12.285000  0.619500   4.084500   \n",
       "103581        NaN             13.650000    13.650000  0.829500   8.589000   \n",
       "103582        NaN             13.650000    13.650000  0.829500   8.610000   \n",
       "103583        NaN             13.387500    13.387500  0.840000   8.662500   \n",
       "\n",
       "        wind_speed  cloud_cover  month  time_label  day_label  \n",
       "93226     1.323000     0.042000      8          10          2  \n",
       "93227     1.286250     0.026250      8          11          2  \n",
       "93228     1.249500     0.010500      8          12          2  \n",
       "93229     1.231125     0.013125      8          13          2  \n",
       "93230     1.212750     0.015750      8          14          2  \n",
       "...            ...          ...    ...         ...        ...  \n",
       "103579    1.911000     0.000000     12          91          1  \n",
       "103580    1.879500     0.000000     12          92          1  \n",
       "103581    2.467500     0.892500     12          93          1  \n",
       "103582    2.415000     0.892500     12          94          1  \n",
       "103583    2.415000     0.861000     12          95          1  \n",
       "\n",
       "[10358 rows x 10 columns]"
      ]
     },
     "execution_count": 34,
     "metadata": {},
     "output_type": "execute_result"
    }
   ],
   "source": [
    "#Using 90 percent of data for test and 10 percent for test\n",
    "test_df = final_df[93226:]\n",
    "test_df"
   ]
  },
  {
   "cell_type": "code",
   "execution_count": 35,
   "id": "8f89e2b7",
   "metadata": {},
   "outputs": [
    {
     "data": {
      "text/plain": [
       "load                    480\n",
       "apparent_temperature      0\n",
       "temperature               0\n",
       "humidity                  0\n",
       "dew_point                 0\n",
       "wind_speed                0\n",
       "cloud_cover               0\n",
       "month                     0\n",
       "time_label                0\n",
       "day_label                 0\n",
       "dtype: int64"
      ]
     },
     "execution_count": 35,
     "metadata": {},
     "output_type": "execute_result"
    }
   ],
   "source": [
    "test_df.isna().sum()"
   ]
  },
  {
   "cell_type": "code",
   "execution_count": 36,
   "id": "0ad14a24",
   "metadata": {},
   "outputs": [
    {
     "data": {
      "text/plain": [
       "(93226, 10358)"
      ]
     },
     "execution_count": 36,
     "metadata": {},
     "output_type": "execute_result"
    }
   ],
   "source": [
    "len(train_df), len(test_df)"
   ]
  },
  {
   "cell_type": "code",
   "execution_count": 37,
   "id": "01d617da",
   "metadata": {},
   "outputs": [
    {
     "data": {
      "text/plain": [
       "((93226, 10), (10358, 10))"
      ]
     },
     "execution_count": 37,
     "metadata": {},
     "output_type": "execute_result"
    }
   ],
   "source": [
    "train_df.shape, test_df.shape"
   ]
  },
  {
   "cell_type": "code",
   "execution_count": 38,
   "id": "c862f60b",
   "metadata": {},
   "outputs": [
    {
     "data": {
      "text/plain": [
       "RandomForestRegressor()"
      ]
     },
     "execution_count": 38,
     "metadata": {},
     "output_type": "execute_result"
    }
   ],
   "source": [
    "#Data Imputation to remove the NaN values\n",
    "from sklearn.impute import SimpleImputer\n",
    "my_imputer = SimpleImputer()\n",
    "my_imputer = pd.DataFrame(my_imputer.fit_transform(train_df))\n",
    "\n",
    "# Imputation removed column names; put them back\n",
    "my_imputer.columns = train_df.columns\n",
    "\n",
    "#Model\n",
    "from sklearn.ensemble import RandomForestRegressor\n",
    "\n",
    "#Dependent and independent varaible\n",
    "train_y = my_imputer[\"load\"]\n",
    "train_X = my_imputer.drop(\"load\", axis=1)\n",
    "\n",
    "my_model = RandomForestRegressor()\n",
    "my_model.fit(train_X, train_y)"
   ]
  },
  {
   "cell_type": "code",
   "execution_count": 39,
   "id": "68f24176",
   "metadata": {},
   "outputs": [],
   "source": [
    "#Data Imputation to remove the NaN values\n",
    "from sklearn.impute import SimpleImputer\n",
    "imputer = SimpleImputer()\n",
    "imputer = pd.DataFrame(imputer.fit_transform(test_df))\n",
    "\n",
    "# Imputation removed column names; put them back\n",
    "imputer.columns = test_df.columns"
   ]
  },
  {
   "cell_type": "code",
   "execution_count": 40,
   "id": "55c30ffb",
   "metadata": {},
   "outputs": [
    {
     "name": "stdout",
     "output_type": "stream",
     "text": [
      "[1561.346274  1544.956701  1502.84465   ...  951.5010525  920.3580661\n",
      "  902.0872772]\n"
     ]
    }
   ],
   "source": [
    "# Treat the test data in the same way as training data. In this case, pull same columns.\n",
    "test_X = imputer.drop(\"load\", axis=1)\n",
    "test_y = imputer.load\n",
    "# Use the model to make predictions\n",
    "predicted_prices = my_model.predict(test_X)\n",
    "# We will look at the predicted prices to ensure we have something sensible.\n",
    "print(predicted_prices)"
   ]
  },
  {
   "cell_type": "code",
   "execution_count": 41,
   "id": "20ff7ae5",
   "metadata": {},
   "outputs": [
    {
     "data": {
      "text/plain": [
       "array([ 831.8690775,  811.8665123,  777.2586502,  721.5062361,\n",
       "        703.9117028,  692.7893505,  667.2356031,  657.4340379,\n",
       "        652.4829068,  645.362831 ,  643.9094713,  642.7325486,\n",
       "        644.2698595,  643.3304787,  655.4923129,  655.0375503,\n",
       "        678.574964 ,  688.9667429,  716.4327031,  746.7039989,\n",
       "        780.1752676,  856.4249651,  932.2890749, 1020.0100696,\n",
       "       1143.348381 , 1276.4777031, 1417.1659561, 1462.287393 ,\n",
       "       1509.846879 , 1599.40873  , 1637.558248 , 1662.962172 ,\n",
       "       1695.512856 , 1719.402891 , 1721.482582 , 1718.358955 ,\n",
       "       1715.554791 , 1705.886667 , 1722.185037 , 1721.938698 ,\n",
       "       1729.84013  , 1724.48511  , 1719.052118 , 1679.627273 ,\n",
       "       1668.101456 , 1654.340307 , 1650.962968 , 1633.417147 ,\n",
       "       1611.760727 , 1576.551016 , 1543.237176 , 1520.830124 ,\n",
       "       1445.692891 , 1378.411842 , 1345.905396 , 1339.265353 ,\n",
       "       1319.220388 , 1284.509819 , 1290.553457 , 1293.902112 ,\n",
       "       1294.082094 , 1311.061709 , 1311.017875 , 1292.9570853,\n",
       "       1313.94435  , 1302.677598 , 1299.698098 , 1313.212807 ,\n",
       "       1337.995682 , 1374.757662 , 1359.215984 , 1397.340757 ,\n",
       "       1466.028029 , 1478.462947 , 1483.756155 , 1486.291659 ,\n",
       "       1493.111886 , 1496.693043 , 1498.030182 , 1495.390345 ,\n",
       "       1463.605544 , 1436.36847  , 1426.781247 , 1416.02707  ,\n",
       "       1384.887154 , 1355.987822 , 1326.487439 , 1305.739918 ,\n",
       "       1259.603421 , 1182.2811237, 1139.8894643, 1113.0149197,\n",
       "       1070.657772 ,  951.5010525,  920.3580661,  902.0872772])"
      ]
     },
     "execution_count": 41,
     "metadata": {},
     "output_type": "execute_result"
    }
   ],
   "source": [
    "predicted_prices[-96:]"
   ]
  },
  {
   "cell_type": "code",
   "execution_count": 42,
   "id": "80730c44",
   "metadata": {},
   "outputs": [],
   "source": [
    "my_submission = pd.DataFrame({'Date_time': df.date[-96:], \"time\": df.time[-96:], 'Forecast': predicted_prices[-96:]})\n",
    "# you could use any filename. We choose submission here\n",
    "my_submission.to_csv('submission.csv', index=False)"
   ]
  },
  {
   "cell_type": "code",
   "execution_count": 43,
   "id": "a6e61e5a",
   "metadata": {},
   "outputs": [
    {
     "name": "stdout",
     "output_type": "stream",
     "text": [
      "0.08881359653599885\n"
     ]
    }
   ],
   "source": [
    "#Mean absolute percentage Error\n",
    "from sklearn.metrics import mean_absolute_percentage_error\n",
    "print(mean_absolute_percentage_error(test_y, predicted_prices))"
   ]
  }
 ],
 "metadata": {
  "colab": {
   "collapsed_sections": [],
   "name": "climate_connect.ipynb",
   "provenance": []
  },
  "kernelspec": {
   "display_name": "Python 3 (ipykernel)",
   "language": "python",
   "name": "python3"
  },
  "language_info": {
   "codemirror_mode": {
    "name": "ipython",
    "version": 3
   },
   "file_extension": ".py",
   "mimetype": "text/x-python",
   "name": "python",
   "nbconvert_exporter": "python",
   "pygments_lexer": "ipython3",
   "version": "3.9.7"
  }
 },
 "nbformat": 4,
 "nbformat_minor": 5
}
